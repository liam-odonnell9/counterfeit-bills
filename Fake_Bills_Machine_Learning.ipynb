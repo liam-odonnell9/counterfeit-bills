{
  "nbformat": 4,
  "nbformat_minor": 0,
  "metadata": {
    "colab": {
      "provenance": []
    },
    "kernelspec": {
      "name": "python3",
      "display_name": "Python 3"
    },
    "language_info": {
      "name": "python"
    }
  },
  "cells": [
    {
      "cell_type": "markdown",
      "source": [
        "## For this project we will take a look at data for American bills and attempt to classify them as counterfit or real"
      ],
      "metadata": {
        "id": "7yD0zNfTGd02"
      }
    },
    {
      "cell_type": "code",
      "source": [
        "import pandas as pd\n",
        "import numpy as np\n",
        "import matplotlib.pyplot as plt\n",
        "import seaborn as sns"
      ],
      "metadata": {
        "id": "fohwxgDZG1Fx"
      },
      "execution_count": null,
      "outputs": []
    },
    {
      "cell_type": "code",
      "execution_count": null,
      "metadata": {
        "id": "D7dxUoy4Ga82"
      },
      "outputs": [],
      "source": [
        "df = pd.read_csv('fake_bills.csv',sep=';')"
      ]
    },
    {
      "cell_type": "code",
      "source": [
        "df.head()"
      ],
      "metadata": {
        "colab": {
          "base_uri": "https://localhost:8080/",
          "height": 206
        },
        "id": "RtUBdqPbGz9D",
        "outputId": "fd5943da-a969-415d-d50e-bee5f7e17c7d"
      },
      "execution_count": null,
      "outputs": [
        {
          "output_type": "execute_result",
          "data": {
            "text/plain": [
              "   is_genuine  diagonal  height_left  height_right  margin_low  margin_up  \\\n",
              "0        True    171.81       104.86        104.95        4.52       2.89   \n",
              "1        True    171.46       103.36        103.66        3.77       2.99   \n",
              "2        True    172.69       104.48        103.50        4.40       2.94   \n",
              "3        True    171.36       103.91        103.94        3.62       3.01   \n",
              "4        True    171.73       104.28        103.46        4.04       3.48   \n",
              "\n",
              "   length  \n",
              "0  112.83  \n",
              "1  113.09  \n",
              "2  113.16  \n",
              "3  113.51  \n",
              "4  112.54  "
            ],
            "text/html": [
              "\n",
              "  <div id=\"df-14da12e1-9968-4567-bd33-67154b8edac6\">\n",
              "    <div class=\"colab-df-container\">\n",
              "      <div>\n",
              "<style scoped>\n",
              "    .dataframe tbody tr th:only-of-type {\n",
              "        vertical-align: middle;\n",
              "    }\n",
              "\n",
              "    .dataframe tbody tr th {\n",
              "        vertical-align: top;\n",
              "    }\n",
              "\n",
              "    .dataframe thead th {\n",
              "        text-align: right;\n",
              "    }\n",
              "</style>\n",
              "<table border=\"1\" class=\"dataframe\">\n",
              "  <thead>\n",
              "    <tr style=\"text-align: right;\">\n",
              "      <th></th>\n",
              "      <th>is_genuine</th>\n",
              "      <th>diagonal</th>\n",
              "      <th>height_left</th>\n",
              "      <th>height_right</th>\n",
              "      <th>margin_low</th>\n",
              "      <th>margin_up</th>\n",
              "      <th>length</th>\n",
              "    </tr>\n",
              "  </thead>\n",
              "  <tbody>\n",
              "    <tr>\n",
              "      <th>0</th>\n",
              "      <td>True</td>\n",
              "      <td>171.81</td>\n",
              "      <td>104.86</td>\n",
              "      <td>104.95</td>\n",
              "      <td>4.52</td>\n",
              "      <td>2.89</td>\n",
              "      <td>112.83</td>\n",
              "    </tr>\n",
              "    <tr>\n",
              "      <th>1</th>\n",
              "      <td>True</td>\n",
              "      <td>171.46</td>\n",
              "      <td>103.36</td>\n",
              "      <td>103.66</td>\n",
              "      <td>3.77</td>\n",
              "      <td>2.99</td>\n",
              "      <td>113.09</td>\n",
              "    </tr>\n",
              "    <tr>\n",
              "      <th>2</th>\n",
              "      <td>True</td>\n",
              "      <td>172.69</td>\n",
              "      <td>104.48</td>\n",
              "      <td>103.50</td>\n",
              "      <td>4.40</td>\n",
              "      <td>2.94</td>\n",
              "      <td>113.16</td>\n",
              "    </tr>\n",
              "    <tr>\n",
              "      <th>3</th>\n",
              "      <td>True</td>\n",
              "      <td>171.36</td>\n",
              "      <td>103.91</td>\n",
              "      <td>103.94</td>\n",
              "      <td>3.62</td>\n",
              "      <td>3.01</td>\n",
              "      <td>113.51</td>\n",
              "    </tr>\n",
              "    <tr>\n",
              "      <th>4</th>\n",
              "      <td>True</td>\n",
              "      <td>171.73</td>\n",
              "      <td>104.28</td>\n",
              "      <td>103.46</td>\n",
              "      <td>4.04</td>\n",
              "      <td>3.48</td>\n",
              "      <td>112.54</td>\n",
              "    </tr>\n",
              "  </tbody>\n",
              "</table>\n",
              "</div>\n",
              "      <button class=\"colab-df-convert\" onclick=\"convertToInteractive('df-14da12e1-9968-4567-bd33-67154b8edac6')\"\n",
              "              title=\"Convert this dataframe to an interactive table.\"\n",
              "              style=\"display:none;\">\n",
              "        \n",
              "  <svg xmlns=\"http://www.w3.org/2000/svg\" height=\"24px\"viewBox=\"0 0 24 24\"\n",
              "       width=\"24px\">\n",
              "    <path d=\"M0 0h24v24H0V0z\" fill=\"none\"/>\n",
              "    <path d=\"M18.56 5.44l.94 2.06.94-2.06 2.06-.94-2.06-.94-.94-2.06-.94 2.06-2.06.94zm-11 1L8.5 8.5l.94-2.06 2.06-.94-2.06-.94L8.5 2.5l-.94 2.06-2.06.94zm10 10l.94 2.06.94-2.06 2.06-.94-2.06-.94-.94-2.06-.94 2.06-2.06.94z\"/><path d=\"M17.41 7.96l-1.37-1.37c-.4-.4-.92-.59-1.43-.59-.52 0-1.04.2-1.43.59L10.3 9.45l-7.72 7.72c-.78.78-.78 2.05 0 2.83L4 21.41c.39.39.9.59 1.41.59.51 0 1.02-.2 1.41-.59l7.78-7.78 2.81-2.81c.8-.78.8-2.07 0-2.86zM5.41 20L4 18.59l7.72-7.72 1.47 1.35L5.41 20z\"/>\n",
              "  </svg>\n",
              "      </button>\n",
              "      \n",
              "  <style>\n",
              "    .colab-df-container {\n",
              "      display:flex;\n",
              "      flex-wrap:wrap;\n",
              "      gap: 12px;\n",
              "    }\n",
              "\n",
              "    .colab-df-convert {\n",
              "      background-color: #E8F0FE;\n",
              "      border: none;\n",
              "      border-radius: 50%;\n",
              "      cursor: pointer;\n",
              "      display: none;\n",
              "      fill: #1967D2;\n",
              "      height: 32px;\n",
              "      padding: 0 0 0 0;\n",
              "      width: 32px;\n",
              "    }\n",
              "\n",
              "    .colab-df-convert:hover {\n",
              "      background-color: #E2EBFA;\n",
              "      box-shadow: 0px 1px 2px rgba(60, 64, 67, 0.3), 0px 1px 3px 1px rgba(60, 64, 67, 0.15);\n",
              "      fill: #174EA6;\n",
              "    }\n",
              "\n",
              "    [theme=dark] .colab-df-convert {\n",
              "      background-color: #3B4455;\n",
              "      fill: #D2E3FC;\n",
              "    }\n",
              "\n",
              "    [theme=dark] .colab-df-convert:hover {\n",
              "      background-color: #434B5C;\n",
              "      box-shadow: 0px 1px 3px 1px rgba(0, 0, 0, 0.15);\n",
              "      filter: drop-shadow(0px 1px 2px rgba(0, 0, 0, 0.3));\n",
              "      fill: #FFFFFF;\n",
              "    }\n",
              "  </style>\n",
              "\n",
              "      <script>\n",
              "        const buttonEl =\n",
              "          document.querySelector('#df-14da12e1-9968-4567-bd33-67154b8edac6 button.colab-df-convert');\n",
              "        buttonEl.style.display =\n",
              "          google.colab.kernel.accessAllowed ? 'block' : 'none';\n",
              "\n",
              "        async function convertToInteractive(key) {\n",
              "          const element = document.querySelector('#df-14da12e1-9968-4567-bd33-67154b8edac6');\n",
              "          const dataTable =\n",
              "            await google.colab.kernel.invokeFunction('convertToInteractive',\n",
              "                                                     [key], {});\n",
              "          if (!dataTable) return;\n",
              "\n",
              "          const docLinkHtml = 'Like what you see? Visit the ' +\n",
              "            '<a target=\"_blank\" href=https://colab.research.google.com/notebooks/data_table.ipynb>data table notebook</a>'\n",
              "            + ' to learn more about interactive tables.';\n",
              "          element.innerHTML = '';\n",
              "          dataTable['output_type'] = 'display_data';\n",
              "          await google.colab.output.renderOutput(dataTable, element);\n",
              "          const docLink = document.createElement('div');\n",
              "          docLink.innerHTML = docLinkHtml;\n",
              "          element.appendChild(docLink);\n",
              "        }\n",
              "      </script>\n",
              "    </div>\n",
              "  </div>\n",
              "  "
            ]
          },
          "metadata": {},
          "execution_count": 137
        }
      ]
    },
    {
      "cell_type": "markdown",
      "source": [
        "## Exploratory Data Analysis"
      ],
      "metadata": {
        "id": "xLw5BYASHOXp"
      }
    },
    {
      "cell_type": "code",
      "source": [
        "df.isnull().sum()"
      ],
      "metadata": {
        "colab": {
          "base_uri": "https://localhost:8080/"
        },
        "id": "7XMbgGc8MtsZ",
        "outputId": "e38edcb2-59da-49bf-8a5b-b2937c30e225"
      },
      "execution_count": null,
      "outputs": [
        {
          "output_type": "execute_result",
          "data": {
            "text/plain": [
              "is_genuine       0\n",
              "diagonal         0\n",
              "height_left      0\n",
              "height_right     0\n",
              "margin_low      37\n",
              "margin_up        0\n",
              "length           0\n",
              "dtype: int64"
            ]
          },
          "metadata": {},
          "execution_count": 138
        }
      ]
    },
    {
      "cell_type": "code",
      "source": [
        "df['is_genuine'] = df['is_genuine'].astype(int)"
      ],
      "metadata": {
        "id": "nMNWaEnBHosf"
      },
      "execution_count": null,
      "outputs": []
    },
    {
      "cell_type": "code",
      "source": [
        "null_true = df[df['margin_low'].isnull()==True]"
      ],
      "metadata": {
        "id": "cOU67lL4SMDR"
      },
      "execution_count": null,
      "outputs": []
    },
    {
      "cell_type": "code",
      "source": [
        "null_false = df[df['margin_low'].isnull()==False]"
      ],
      "metadata": {
        "id": "10wpY5beSby9"
      },
      "execution_count": null,
      "outputs": []
    },
    {
      "cell_type": "code",
      "source": [
        "X1 = null_false.drop('margin_low',axis=1)\n",
        "y1 = null_false['margin_low']\n",
        "\n",
        "X2 = null_true.drop('margin_low',axis=1)\n",
        "y2 = null_true['margin_low']"
      ],
      "metadata": {
        "id": "aYQ9jr7uSld5"
      },
      "execution_count": null,
      "outputs": []
    },
    {
      "cell_type": "code",
      "source": [
        "from sklearn.neighbors import KNeighborsRegressor"
      ],
      "metadata": {
        "id": "E9NGuINWTUzS"
      },
      "execution_count": null,
      "outputs": []
    },
    {
      "cell_type": "code",
      "source": [
        "kmn = KNeighborsRegressor(n_neighbors=1)"
      ],
      "metadata": {
        "id": "zvVBVAq3TOOP"
      },
      "execution_count": null,
      "outputs": []
    },
    {
      "cell_type": "code",
      "source": [
        "kmn.fit(X1,y1)"
      ],
      "metadata": {
        "colab": {
          "base_uri": "https://localhost:8080/"
        },
        "id": "KmhJGPTLTaws",
        "outputId": "05f2815e-a2d5-41ba-caa3-0c0f7086beb0"
      },
      "execution_count": null,
      "outputs": [
        {
          "output_type": "execute_result",
          "data": {
            "text/plain": [
              "KNeighborsRegressor(n_neighbors=1)"
            ]
          },
          "metadata": {},
          "execution_count": 145
        }
      ]
    },
    {
      "cell_type": "code",
      "source": [
        "pred = kmn.predict(X2)"
      ],
      "metadata": {
        "id": "hcXT8E6HU1Qn"
      },
      "execution_count": null,
      "outputs": []
    },
    {
      "cell_type": "code",
      "source": [
        "X2['margin_low'] = pred"
      ],
      "metadata": {
        "id": "Q04C-zzVU9GZ"
      },
      "execution_count": null,
      "outputs": []
    },
    {
      "cell_type": "code",
      "source": [
        "df = null_false.append(X2)"
      ],
      "metadata": {
        "id": "oVRUDmnIVbFV"
      },
      "execution_count": null,
      "outputs": []
    },
    {
      "cell_type": "code",
      "source": [
        "df['is_genuine'].value_counts().plot(kind='bar')"
      ],
      "metadata": {
        "colab": {
          "base_uri": "https://localhost:8080/",
          "height": 279
        },
        "id": "jKuE9EiVG9yY",
        "outputId": "3f6f2429-a8f4-43d7-a829-926cb3c3574e"
      },
      "execution_count": null,
      "outputs": [
        {
          "output_type": "execute_result",
          "data": {
            "text/plain": [
              "<AxesSubplot:>"
            ]
          },
          "metadata": {},
          "execution_count": 151
        },
        {
          "output_type": "display_data",
          "data": {
            "text/plain": [
              "<Figure size 432x288 with 1 Axes>"
            ],
            "image/png": "[encoded data removed]"
          },
          "metadata": {
            "needs_background": "light"
          }
        }
      ]
    },
    {
      "cell_type": "code",
      "source": [
        "cols = df[['diagonal','height_left','height_right','margin_low','margin_up','length']]"
      ],
      "metadata": {
        "id": "gjtQyIRYHUPR"
      },
      "execution_count": null,
      "outputs": []
    },
    {
      "cell_type": "code",
      "source": [
        "df.corr()['is_genuine'].sort_values(ascending=False)"
      ],
      "metadata": {
        "colab": {
          "base_uri": "https://localhost:8080/"
        },
        "id": "QzE02hyWITYH",
        "outputId": "a2960b35-9f22-46db-b50f-abe42e75db55"
      },
      "execution_count": null,
      "outputs": [
        {
          "output_type": "execute_result",
          "data": {
            "text/plain": [
              "is_genuine      1.000000\n",
              "length          0.849285\n",
              "diagonal        0.132756\n",
              "height_left    -0.379833\n",
              "height_right   -0.485092\n",
              "margin_up      -0.606262\n",
              "margin_low     -0.783307\n",
              "Name: is_genuine, dtype: float64"
            ]
          },
          "metadata": {},
          "execution_count": 154
        }
      ]
    },
    {
      "cell_type": "markdown",
      "source": [
        "### Log Regression"
      ],
      "metadata": {
        "id": "dliHtDi4Me_s"
      }
    },
    {
      "cell_type": "code",
      "source": [
        "X = df.drop('is_genuine',axis=1)\n",
        "y = df['is_genuine']"
      ],
      "metadata": {
        "id": "aKyXge7hPn3y"
      },
      "execution_count": null,
      "outputs": []
    },
    {
      "cell_type": "code",
      "source": [
        "from sklearn.model_selection import train_test_split"
      ],
      "metadata": {
        "id": "d1iDr40LQAr7"
      },
      "execution_count": null,
      "outputs": []
    },
    {
      "cell_type": "code",
      "source": [
        "X_train, X_test, y_train, y_test = train_test_split(\n",
        "    X, y, test_size=0.30, random_state=99)"
      ],
      "metadata": {
        "id": "k_qBRIgJPype"
      },
      "execution_count": null,
      "outputs": []
    },
    {
      "cell_type": "code",
      "source": [
        "from sklearn.linear_model import LogisticRegression"
      ],
      "metadata": {
        "id": "FKA_gBJxReJx"
      },
      "execution_count": null,
      "outputs": []
    },
    {
      "cell_type": "code",
      "source": [
        "logmodel = LogisticRegression()"
      ],
      "metadata": {
        "id": "Ht3-bU2ZReGt"
      },
      "execution_count": null,
      "outputs": []
    },
    {
      "cell_type": "code",
      "source": [
        "logmodel.fit(X_train,y_train)"
      ],
      "metadata": {
        "colab": {
          "base_uri": "https://localhost:8080/"
        },
        "id": "Mm58krwAReD3",
        "outputId": "3e783ba3-92dc-4668-fc1a-80e0b583d139"
      },
      "execution_count": null,
      "outputs": [
        {
          "output_type": "execute_result",
          "data": {
            "text/plain": [
              "LogisticRegression()"
            ]
          },
          "metadata": {},
          "execution_count": 160
        }
      ]
    },
    {
      "cell_type": "code",
      "source": [
        "predictions = logmodel.predict(X_test)"
      ],
      "metadata": {
        "id": "FNDoruegRduP"
      },
      "execution_count": null,
      "outputs": []
    },
    {
      "cell_type": "code",
      "source": [
        "print(confusion_matrix(y_test,predictions))\n",
        "print('\\n')\n",
        "print(classification_report(y_test,predictions))"
      ],
      "metadata": {
        "colab": {
          "base_uri": "https://localhost:8080/"
        },
        "id": "CerXM64BNn51",
        "outputId": "1763cc03-9ca5-40a8-9ddd-fce56507a94f"
      },
      "execution_count": null,
      "outputs": [
        {
          "output_type": "stream",
          "name": "stdout",
          "text": [
            "[[142   3]\n",
            " [  2 303]]\n",
            "\n",
            "\n",
            "              precision    recall  f1-score   support\n",
            "\n",
            "           0       0.99      0.98      0.98       145\n",
            "           1       0.99      0.99      0.99       305\n",
            "\n",
            "    accuracy                           0.99       450\n",
            "   macro avg       0.99      0.99      0.99       450\n",
            "weighted avg       0.99      0.99      0.99       450\n",
            "\n"
          ]
        }
      ]
    },
    {
      "cell_type": "code",
      "source": [
        "## Correctly predicted 99% of fake bills"
      ],
      "metadata": {
        "id": "iv-hMcmfNvW2"
      },
      "execution_count": null,
      "outputs": []
    },
    {
      "cell_type": "code",
      "source": [
        "from imblearn.over_sampling import SMOTE"
      ],
      "metadata": {
        "id": "FyTPqmqtWEJD"
      },
      "execution_count": null,
      "outputs": []
    },
    {
      "cell_type": "code",
      "source": [
        "df.hist(figsize=(20, 20))\n",
        "plt.show()"
      ],
      "metadata": {
        "colab": {
          "base_uri": "https://localhost:8080/",
          "height": 1000
        },
        "id": "HMktXyq-X3da",
        "outputId": "82d71621-e725-4898-8134-ba563fcde35f"
      },
      "execution_count": null,
      "outputs": [
        {
          "output_type": "display_data",
          "data": {
            "text/plain": [
              "<Figure size 1440x1440 with 9 Axes>"
            ],
            "image/png": "[encoded data removed]"
          },
          "metadata": {
            "needs_background": "light"
          }
        }
      ]
    },
    {
      "cell_type": "code",
      "source": [
        "X = df.drop('is_genuine', axis=1)\n",
        "y = df['is_genuine']\n",
        "\n",
        "smote = SMOTE(random_state=42)\n",
        "X_sm, y_sm = smote.fit_resample(X, y)\n",
        "\n",
        "df = pd.concat([X_sm, y_sm], axis=1)\n",
        "\n",
        "print(\"[PRE OVERSAMPLING]\\n Rows : {}\".format(df.shape[0]))\n",
        "print(\"\\n[POST OVERSAMPLING]\\n Rows : {}\".format(df.shape[0]))\n",
        "\n",
        "print(\"\\n[POST OVERSAMPLING BREAKDOWN]\")\n",
        "df['is_genuine'].value_counts()"
      ],
      "metadata": {
        "colab": {
          "base_uri": "https://localhost:8080/"
        },
        "id": "tqNwJXr0YFrQ",
        "outputId": "c9c5b8ee-7851-483a-9b3b-9775f36a2827"
      },
      "execution_count": null,
      "outputs": [
        {
          "output_type": "stream",
          "name": "stdout",
          "text": [
            "[PRE OVERSAMPLING]\n",
            " Rows : 2000\n",
            "\n",
            "[POST OVERSAMPLING]\n",
            " Rows : 2000\n",
            "\n",
            "[POST OVERSAMPLING BREAKDOWN]\n"
          ]
        },
        {
          "output_type": "execute_result",
          "data": {
            "text/plain": [
              "1    1000\n",
              "0    1000\n",
              "Name: is_genuine, dtype: int64"
            ]
          },
          "metadata": {},
          "execution_count": 167
        }
      ]
    },
    {
      "cell_type": "code",
      "source": [
        "X_train, X_test, y_train, y_test = train_test_split(\n",
        "    X, y, test_size=0.30, random_state=99)"
      ],
      "metadata": {
        "id": "xWrSsJYXYzDx"
      },
      "execution_count": null,
      "outputs": []
    },
    {
      "cell_type": "code",
      "source": [
        "logmodel.fit(X_train,y_train)"
      ],
      "metadata": {
        "colab": {
          "base_uri": "https://localhost:8080/"
        },
        "id": "5978GzJoY4iI",
        "outputId": "a4a4e9c4-958c-471a-f1ae-2c575d4847a4"
      },
      "execution_count": null,
      "outputs": [
        {
          "output_type": "execute_result",
          "data": {
            "text/plain": [
              "LogisticRegression()"
            ]
          },
          "metadata": {},
          "execution_count": 169
        }
      ]
    },
    {
      "cell_type": "code",
      "source": [
        "predictions = logmodel.predict(X_test)"
      ],
      "metadata": {
        "id": "t-3sU5T3Y604"
      },
      "execution_count": null,
      "outputs": []
    },
    {
      "cell_type": "code",
      "source": [
        "print(confusion_matrix(y_test,predictions))\n",
        "print('\\n')\n",
        "print(classification_report(y_test,predictions))"
      ],
      "metadata": {
        "colab": {
          "base_uri": "https://localhost:8080/"
        },
        "id": "nYH8WIrKY8qw",
        "outputId": "84e78343-f458-4093-c300-7219d103093e"
      },
      "execution_count": null,
      "outputs": [
        {
          "output_type": "stream",
          "name": "stdout",
          "text": [
            "[[142   3]\n",
            " [  2 303]]\n",
            "\n",
            "\n",
            "              precision    recall  f1-score   support\n",
            "\n",
            "           0       0.99      0.98      0.98       145\n",
            "           1       0.99      0.99      0.99       305\n",
            "\n",
            "    accuracy                           0.99       450\n",
            "   macro avg       0.99      0.99      0.99       450\n",
            "weighted avg       0.99      0.99      0.99       450\n",
            "\n"
          ]
        }
      ]
    },
    {
      "cell_type": "code",
      "source": [
        "from sklearn.ensemble import RandomForestClassifier"
      ],
      "metadata": {
        "id": "U9SpecWqY-of"
      },
      "execution_count": null,
      "outputs": []
    },
    {
      "cell_type": "code",
      "source": [
        "rfc = RandomForestClassifier(n_estimators=200)"
      ],
      "metadata": {
        "id": "OOUntoYIZJlv"
      },
      "execution_count": null,
      "outputs": []
    },
    {
      "cell_type": "code",
      "source": [
        "rfc.fit(X_train,y_train)"
      ],
      "metadata": {
        "id": "leLtJz6OZK9f",
        "outputId": "97401ec8-c426-46f5-b106-c0d1a40e8582",
        "colab": {
          "base_uri": "https://localhost:8080/"
        }
      },
      "execution_count": null,
      "outputs": [
        {
          "output_type": "execute_result",
          "data": {
            "text/plain": [
              "RandomForestClassifier(n_estimators=200)"
            ]
          },
          "metadata": {},
          "execution_count": 174
        }
      ]
    },
    {
      "cell_type": "code",
      "source": [
        "rfc_pred = rfc.predict(X_test)"
      ],
      "metadata": {
        "id": "6VaCKq_4ZM_I"
      },
      "execution_count": null,
      "outputs": []
    },
    {
      "cell_type": "code",
      "source": [
        "print(confusion_matrix(y_test,rfc_pred))\n",
        "print(classification_report(y_test,rfc_pred))"
      ],
      "metadata": {
        "id": "CcCmK4B9ZOOg",
        "outputId": "b39ecbeb-7162-4ca0-a1fd-3094d7f04b69",
        "colab": {
          "base_uri": "https://localhost:8080/"
        }
      },
      "execution_count": null,
      "outputs": [
        {
          "output_type": "stream",
          "name": "stdout",
          "text": [
            "[[142   3]\n",
            " [  2 303]]\n",
            "              precision    recall  f1-score   support\n",
            "\n",
            "           0       0.99      0.98      0.98       145\n",
            "           1       0.99      0.99      0.99       305\n",
            "\n",
            "    accuracy                           0.99       450\n",
            "   macro avg       0.99      0.99      0.99       450\n",
            "weighted avg       0.99      0.99      0.99       450\n",
            "\n"
          ]
        }
      ]
    },
    {
      "cell_type": "code",
      "source": [
        "# Dropping out neurons\n",
        "from tensorflow.keras.models import Sequential\n",
        "from tensorflow.keras.callbacks import EarlyStopping\n",
        "from tensorflow.keras.layers import Dropout,Dense\n",
        "\n",
        "model = Sequential()\n",
        "\n",
        "model.add(Dense(6,activation='relu'))\n",
        "model.add(Dropout(rate=0.5))\n",
        "\n",
        "model.add(Dense(3,activation='relu'))\n",
        "model.add(Dropout(rate=0.5))\n",
        "\n",
        "model.add(Dense(2,activation='relu'))\n",
        "model.add(Dropout(rate=0.5))\n",
        "\n",
        "# BINARY CLASSIFICATION\n",
        "model.add(Dense(1,activation='sigmoid'))\n",
        "\n",
        "model.compile(loss='binary_crossentropy',optimizer='adam')"
      ],
      "metadata": {
        "id": "CSEzIDFVZQAw"
      },
      "execution_count": null,
      "outputs": []
    },
    {
      "cell_type": "code",
      "source": [
        "early_stop = EarlyStopping(monitor='val_loss',mode='min',verbose=1,patience=25)"
      ],
      "metadata": {
        "id": "PXPMRmolZw5Z"
      },
      "execution_count": null,
      "outputs": []
    },
    {
      "cell_type": "code",
      "source": [
        "model.fit(x=X_train,y=y_train,epochs=1000,validation_data=(X_test,y_test),\n",
        "          callbacks=[early_stop])"
      ],
      "metadata": {
        "colab": {
          "base_uri": "https://localhost:8080/"
        },
        "id": "jw1BUGu5aGRw",
        "outputId": "510d9e45-28c7-45df-8c46-c7c59cb3d43f"
      },
      "execution_count": null,
      "outputs": [
        {
          "output_type": "stream",
          "name": "stdout",
          "text": [
            "Epoch 1/1000\n",
            "33/33 [==============================] - 2s 8ms/step - loss: 26.6077 - val_loss: 6.3489\n",
            "Epoch 2/1000\n",
            "33/33 [==============================] - 0s 3ms/step - loss: 17.6811 - val_loss: 5.3768\n",
            "Epoch 3/1000\n",
            "33/33 [==============================] - 0s 3ms/step - loss: 11.4577 - val_loss: 4.0029\n",
            "Epoch 4/1000\n",
            "33/33 [==============================] - 0s 3ms/step - loss: 4.6227 - val_loss: 2.7117\n",
            "Epoch 5/1000\n",
            "33/33 [==============================] - 0s 3ms/step - loss: 3.2056 - val_loss: 1.6008\n",
            "Epoch 6/1000\n",
            "33/33 [==============================] - 0s 3ms/step - loss: 1.7554 - val_loss: 0.9665\n",
            "Epoch 7/1000\n",
            "33/33 [==============================] - 0s 3ms/step - loss: 1.1631 - val_loss: 0.6373\n",
            "Epoch 8/1000\n",
            "33/33 [==============================] - 0s 2ms/step - loss: 0.7121 - val_loss: 0.6659\n",
            "Epoch 9/1000\n",
            "33/33 [==============================] - 0s 2ms/step - loss: 0.6670 - val_loss: 0.6620\n",
            "Epoch 10/1000\n",
            "33/33 [==============================] - 0s 4ms/step - loss: 0.6638 - val_loss: 0.6588\n",
            "Epoch 11/1000\n",
            "33/33 [==============================] - 0s 3ms/step - loss: 0.6611 - val_loss: 0.6557\n",
            "Epoch 12/1000\n",
            "33/33 [==============================] - 0s 3ms/step - loss: 0.6587 - val_loss: 0.6530\n",
            "Epoch 13/1000\n",
            "33/33 [==============================] - 0s 4ms/step - loss: 0.6565 - val_loss: 0.6507\n",
            "Epoch 14/1000\n",
            "33/33 [==============================] - 0s 3ms/step - loss: 0.6546 - val_loss: 0.6486\n",
            "Epoch 15/1000\n",
            "33/33 [==============================] - 0s 3ms/step - loss: 0.6529 - val_loss: 0.6466\n",
            "Epoch 16/1000\n",
            "33/33 [==============================] - 0s 3ms/step - loss: 0.6514 - val_loss: 0.6448\n",
            "Epoch 17/1000\n",
            "33/33 [==============================] - 0s 3ms/step - loss: 0.6500 - val_loss: 0.6433\n",
            "Epoch 18/1000\n",
            "33/33 [==============================] - 0s 3ms/step - loss: 0.6488 - val_loss: 0.6419\n",
            "Epoch 19/1000\n",
            "33/33 [==============================] - 0s 2ms/step - loss: 0.6478 - val_loss: 0.6405\n",
            "Epoch 20/1000\n",
            "33/33 [==============================] - 0s 3ms/step - loss: 0.6468 - val_loss: 0.6394\n",
            "Epoch 21/1000\n",
            "33/33 [==============================] - 0s 3ms/step - loss: 0.6460 - val_loss: 0.6385\n",
            "Epoch 22/1000\n",
            "33/33 [==============================] - 0s 3ms/step - loss: 0.6452 - val_loss: 0.6377\n",
            "Epoch 23/1000\n",
            "33/33 [==============================] - 0s 3ms/step - loss: 0.6446 - val_loss: 0.6367\n",
            "Epoch 24/1000\n",
            "33/33 [==============================] - 0s 3ms/step - loss: 0.6440 - val_loss: 0.6359\n",
            "Epoch 25/1000\n",
            "33/33 [==============================] - 0s 2ms/step - loss: 0.6434 - val_loss: 0.6352\n",
            "Epoch 26/1000\n",
            "33/33 [==============================] - 0s 6ms/step - loss: 0.6430 - val_loss: 0.6347\n",
            "Epoch 27/1000\n",
            "33/33 [==============================] - 0s 14ms/step - loss: 0.6426 - val_loss: 0.6342\n",
            "Epoch 28/1000\n",
            "33/33 [==============================] - 0s 3ms/step - loss: 0.6422 - val_loss: 0.6337\n",
            "Epoch 29/1000\n",
            "33/33 [==============================] - 0s 3ms/step - loss: 0.6419 - val_loss: 0.6332\n",
            "Epoch 30/1000\n",
            "33/33 [==============================] - 0s 3ms/step - loss: 0.6416 - val_loss: 0.6328\n",
            "Epoch 31/1000\n",
            "33/33 [==============================] - 0s 4ms/step - loss: 0.6414 - val_loss: 0.6325\n",
            "Epoch 32/1000\n",
            "33/33 [==============================] - 0s 4ms/step - loss: 0.6412 - val_loss: 0.6321\n",
            "Epoch 33/1000\n",
            "33/33 [==============================] - 0s 3ms/step - loss: 0.6410 - val_loss: 0.6318\n",
            "Epoch 34/1000\n",
            "33/33 [==============================] - 0s 5ms/step - loss: 0.6408 - val_loss: 0.6315\n",
            "Epoch 35/1000\n",
            "33/33 [==============================] - 0s 3ms/step - loss: 0.6407 - val_loss: 0.6313\n",
            "Epoch 36/1000\n",
            "33/33 [==============================] - 0s 3ms/step - loss: 0.6406 - val_loss: 0.6312\n",
            "Epoch 37/1000\n",
            "33/33 [==============================] - 0s 4ms/step - loss: 0.6404 - val_loss: 0.6308\n",
            "Epoch 38/1000\n",
            "33/33 [==============================] - 0s 3ms/step - loss: 0.6404 - val_loss: 0.6306\n",
            "Epoch 39/1000\n",
            "33/33 [==============================] - 0s 4ms/step - loss: 0.6403 - val_loss: 0.6306\n",
            "Epoch 40/1000\n",
            "33/33 [==============================] - 0s 3ms/step - loss: 0.6402 - val_loss: 0.6304\n",
            "Epoch 41/1000\n",
            "33/33 [==============================] - 0s 3ms/step - loss: 0.6402 - val_loss: 0.6303\n",
            "Epoch 42/1000\n",
            "33/33 [==============================] - 0s 3ms/step - loss: 0.6401 - val_loss: 0.6302\n",
            "Epoch 43/1000\n",
            "33/33 [==============================] - 0s 5ms/step - loss: 0.6401 - val_loss: 0.6301\n",
            "Epoch 44/1000\n",
            "33/33 [==============================] - 0s 4ms/step - loss: 0.6400 - val_loss: 0.6300\n",
            "Epoch 45/1000\n",
            "33/33 [==============================] - 0s 3ms/step - loss: 0.6400 - val_loss: 0.6300\n",
            "Epoch 46/1000\n",
            "33/33 [==============================] - 0s 2ms/step - loss: 0.6399 - val_loss: 0.6298\n",
            "Epoch 47/1000\n",
            "33/33 [==============================] - 0s 2ms/step - loss: 0.6400 - val_loss: 0.6299\n",
            "Epoch 48/1000\n",
            "33/33 [==============================] - 0s 3ms/step - loss: 0.6400 - val_loss: 0.6297\n",
            "Epoch 49/1000\n",
            "33/33 [==============================] - 0s 3ms/step - loss: 0.6399 - val_loss: 0.6297\n",
            "Epoch 50/1000\n",
            "33/33 [==============================] - 0s 3ms/step - loss: 0.6399 - val_loss: 0.6296\n",
            "Epoch 51/1000\n",
            "33/33 [==============================] - 0s 3ms/step - loss: 0.6399 - val_loss: 0.6296\n",
            "Epoch 52/1000\n",
            "33/33 [==============================] - 0s 3ms/step - loss: 0.6398 - val_loss: 0.6296\n",
            "Epoch 53/1000\n",
            "33/33 [==============================] - 0s 3ms/step - loss: 0.6398 - val_loss: 0.6295\n",
            "Epoch 54/1000\n",
            "33/33 [==============================] - 0s 3ms/step - loss: 0.6398 - val_loss: 0.6295\n",
            "Epoch 55/1000\n",
            "33/33 [==============================] - 0s 3ms/step - loss: 0.6398 - val_loss: 0.6294\n",
            "Epoch 56/1000\n",
            "33/33 [==============================] - 0s 3ms/step - loss: 0.6399 - val_loss: 0.6295\n",
            "Epoch 57/1000\n",
            "33/33 [==============================] - 0s 2ms/step - loss: 0.6399 - val_loss: 0.6294\n",
            "Epoch 58/1000\n",
            "33/33 [==============================] - 0s 3ms/step - loss: 0.6398 - val_loss: 0.6294\n",
            "Epoch 59/1000\n",
            "33/33 [==============================] - 0s 3ms/step - loss: 0.6398 - val_loss: 0.6293\n",
            "Epoch 60/1000\n",
            "33/33 [==============================] - 0s 3ms/step - loss: 0.6398 - val_loss: 0.6293\n",
            "Epoch 61/1000\n",
            "33/33 [==============================] - 0s 3ms/step - loss: 0.6398 - val_loss: 0.6293\n",
            "Epoch 62/1000\n",
            "33/33 [==============================] - 0s 2ms/step - loss: 0.6398 - val_loss: 0.6293\n",
            "Epoch 63/1000\n",
            "33/33 [==============================] - 0s 3ms/step - loss: 0.6398 - val_loss: 0.6293\n",
            "Epoch 64/1000\n",
            "33/33 [==============================] - 0s 3ms/step - loss: 0.6398 - val_loss: 0.6293\n",
            "Epoch 65/1000\n",
            "33/33 [==============================] - 0s 3ms/step - loss: 0.6398 - val_loss: 0.6292\n",
            "Epoch 66/1000\n",
            "33/33 [==============================] - 0s 2ms/step - loss: 0.6398 - val_loss: 0.6292\n",
            "Epoch 67/1000\n",
            "33/33 [==============================] - 0s 3ms/step - loss: 0.6398 - val_loss: 0.6292\n",
            "Epoch 68/1000\n",
            "33/33 [==============================] - 0s 3ms/step - loss: 0.6398 - val_loss: 0.6292\n",
            "Epoch 69/1000\n",
            "33/33 [==============================] - 0s 2ms/step - loss: 0.6398 - val_loss: 0.6292\n",
            "Epoch 70/1000\n",
            "33/33 [==============================] - 0s 2ms/step - loss: 0.6398 - val_loss: 0.6292\n",
            "Epoch 71/1000\n",
            "33/33 [==============================] - 0s 5ms/step - loss: 0.6398 - val_loss: 0.6292\n",
            "Epoch 72/1000\n",
            "33/33 [==============================] - 0s 4ms/step - loss: 0.6398 - val_loss: 0.6292\n",
            "Epoch 73/1000\n",
            "33/33 [==============================] - 0s 2ms/step - loss: 0.6398 - val_loss: 0.6292\n",
            "Epoch 74/1000\n",
            "33/33 [==============================] - 0s 5ms/step - loss: 0.6398 - val_loss: 0.6291\n",
            "Epoch 75/1000\n",
            "33/33 [==============================] - 0s 5ms/step - loss: 0.6398 - val_loss: 0.6292\n",
            "Epoch 76/1000\n",
            "33/33 [==============================] - 0s 5ms/step - loss: 0.6398 - val_loss: 0.6292\n",
            "Epoch 77/1000\n",
            "33/33 [==============================] - 0s 6ms/step - loss: 0.6398 - val_loss: 0.6292\n",
            "Epoch 78/1000\n",
            "33/33 [==============================] - 0s 7ms/step - loss: 0.6398 - val_loss: 0.6291\n",
            "Epoch 79/1000\n",
            "33/33 [==============================] - 0s 4ms/step - loss: 0.6398 - val_loss: 0.6291\n",
            "Epoch 80/1000\n",
            "33/33 [==============================] - 0s 5ms/step - loss: 0.6398 - val_loss: 0.6291\n",
            "Epoch 81/1000\n",
            "33/33 [==============================] - 0s 4ms/step - loss: 0.6398 - val_loss: 0.6291\n",
            "Epoch 82/1000\n",
            "33/33 [==============================] - 0s 6ms/step - loss: 0.6398 - val_loss: 0.6291\n",
            "Epoch 83/1000\n",
            "33/33 [==============================] - 0s 7ms/step - loss: 0.6398 - val_loss: 0.6291\n",
            "Epoch 84/1000\n",
            "33/33 [==============================] - 0s 6ms/step - loss: 0.6398 - val_loss: 0.6291\n",
            "Epoch 85/1000\n",
            "33/33 [==============================] - 0s 8ms/step - loss: 0.6398 - val_loss: 0.6291\n",
            "Epoch 86/1000\n",
            "33/33 [==============================] - 0s 7ms/step - loss: 0.6398 - val_loss: 0.6291\n",
            "Epoch 87/1000\n",
            "33/33 [==============================] - 0s 5ms/step - loss: 0.6398 - val_loss: 0.6291\n",
            "Epoch 88/1000\n",
            "33/33 [==============================] - 0s 6ms/step - loss: 0.6398 - val_loss: 0.6292\n",
            "Epoch 89/1000\n",
            "33/33 [==============================] - 0s 5ms/step - loss: 0.6398 - val_loss: 0.6292\n",
            "Epoch 90/1000\n",
            "33/33 [==============================] - 0s 4ms/step - loss: 0.6398 - val_loss: 0.6291\n",
            "Epoch 91/1000\n",
            "33/33 [==============================] - 0s 5ms/step - loss: 0.6398 - val_loss: 0.6291\n",
            "Epoch 92/1000\n",
            "33/33 [==============================] - 0s 5ms/step - loss: 0.6398 - val_loss: 0.6291\n",
            "Epoch 93/1000\n",
            "33/33 [==============================] - 0s 4ms/step - loss: 0.6398 - val_loss: 0.6291\n",
            "Epoch 94/1000\n",
            "33/33 [==============================] - 0s 5ms/step - loss: 0.6398 - val_loss: 0.6291\n",
            "Epoch 95/1000\n",
            "33/33 [==============================] - 0s 9ms/step - loss: 0.6398 - val_loss: 0.6291\n",
            "Epoch 96/1000\n",
            "33/33 [==============================] - 0s 7ms/step - loss: 0.6398 - val_loss: 0.6291\n",
            "Epoch 97/1000\n",
            "33/33 [==============================] - 0s 4ms/step - loss: 0.6398 - val_loss: 0.6290\n",
            "Epoch 98/1000\n",
            "33/33 [==============================] - 0s 6ms/step - loss: 0.6398 - val_loss: 0.6291\n",
            "Epoch 99/1000\n",
            "33/33 [==============================] - 0s 9ms/step - loss: 0.6398 - val_loss: 0.6291\n",
            "Epoch 100/1000\n",
            "33/33 [==============================] - 0s 9ms/step - loss: 0.6398 - val_loss: 0.6291\n",
            "Epoch 101/1000\n",
            "33/33 [==============================] - 0s 5ms/step - loss: 0.6398 - val_loss: 0.6291\n",
            "Epoch 102/1000\n",
            "33/33 [==============================] - 0s 3ms/step - loss: 0.6398 - val_loss: 0.6291\n",
            "Epoch 103/1000\n",
            "33/33 [==============================] - 0s 3ms/step - loss: 0.6398 - val_loss: 0.6291\n",
            "Epoch 104/1000\n",
            "33/33 [==============================] - 0s 3ms/step - loss: 0.6398 - val_loss: 0.6291\n",
            "Epoch 105/1000\n",
            "33/33 [==============================] - 0s 3ms/step - loss: 0.6398 - val_loss: 0.6291\n",
            "Epoch 106/1000\n",
            "33/33 [==============================] - 0s 3ms/step - loss: 0.6398 - val_loss: 0.6291\n",
            "Epoch 107/1000\n",
            "33/33 [==============================] - 0s 3ms/step - loss: 0.6398 - val_loss: 0.6291\n",
            "Epoch 108/1000\n",
            "33/33 [==============================] - 0s 3ms/step - loss: 0.6398 - val_loss: 0.6291\n",
            "Epoch 109/1000\n",
            "33/33 [==============================] - 0s 2ms/step - loss: 0.6398 - val_loss: 0.6291\n",
            "Epoch 110/1000\n",
            "33/33 [==============================] - 0s 4ms/step - loss: 0.6398 - val_loss: 0.6291\n",
            "Epoch 111/1000\n",
            "33/33 [==============================] - 0s 3ms/step - loss: 0.6398 - val_loss: 0.6291\n",
            "Epoch 112/1000\n",
            "33/33 [==============================] - 0s 3ms/step - loss: 0.6398 - val_loss: 0.6291\n",
            "Epoch 113/1000\n",
            "33/33 [==============================] - 0s 3ms/step - loss: 0.6398 - val_loss: 0.6291\n",
            "Epoch 114/1000\n",
            "33/33 [==============================] - 0s 4ms/step - loss: 0.6398 - val_loss: 0.6291\n",
            "Epoch 115/1000\n",
            "33/33 [==============================] - 0s 4ms/step - loss: 0.6398 - val_loss: 0.6291\n",
            "Epoch 116/1000\n",
            "33/33 [==============================] - 0s 4ms/step - loss: 0.6398 - val_loss: 0.6291\n",
            "Epoch 117/1000\n",
            "33/33 [==============================] - 0s 4ms/step - loss: 0.6398 - val_loss: 0.6291\n",
            "Epoch 118/1000\n",
            "33/33 [==============================] - 0s 4ms/step - loss: 0.6398 - val_loss: 0.6291\n",
            "Epoch 119/1000\n",
            "33/33 [==============================] - 0s 5ms/step - loss: 0.6398 - val_loss: 0.6291\n",
            "Epoch 120/1000\n",
            "33/33 [==============================] - 0s 5ms/step - loss: 0.6398 - val_loss: 0.6291\n",
            "Epoch 121/1000\n",
            "33/33 [==============================] - 0s 4ms/step - loss: 0.6398 - val_loss: 0.6291\n",
            "Epoch 122/1000\n",
            "33/33 [==============================] - 0s 3ms/step - loss: 0.6398 - val_loss: 0.6291\n",
            "Epoch 122: early stopping\n"
          ]
        },
        {
          "output_type": "execute_result",
          "data": {
            "text/plain": [
              "<keras.callbacks.History at 0x7ffb3044eb80>"
            ]
          },
          "metadata": {},
          "execution_count": 182
        }
      ]
    },
    {
      "cell_type": "code",
      "source": [
        "model_loss = pd.DataFrame(model.history.history)"
      ],
      "metadata": {
        "id": "9gVeiu0caIsI"
      },
      "execution_count": null,
      "outputs": []
    },
    {
      "cell_type": "code",
      "source": [
        "model_loss.plot()"
      ],
      "metadata": {
        "colab": {
          "base_uri": "https://localhost:8080/",
          "height": 282
        },
        "id": "c1s4TcglaPx4",
        "outputId": "45d74361-a7d2-4f9a-b612-7682b2a74026"
      },
      "execution_count": null,
      "outputs": [
        {
          "output_type": "execute_result",
          "data": {
            "text/plain": [
              "<AxesSubplot:>"
            ]
          },
          "metadata": {},
          "execution_count": 184
        },
        {
          "output_type": "display_data",
          "data": {
            "text/plain": [
              "<Figure size 432x288 with 1 Axes>"
            ],
            "image/png": "[encoded data removed]"
          },
          "metadata": {
            "needs_background": "light"
          }
        }
      ]
    },
    {
      "cell_type": "code",
      "source": [
        "predictions = (model.predict(X_test)>0.5).astype(int)"
      ],
      "metadata": {
        "colab": {
          "base_uri": "https://localhost:8080/"
        },
        "id": "TS_HQtkMaRPw",
        "outputId": "5e1e6e05-9919-49e3-e5ba-9e6e2d68cace"
      },
      "execution_count": null,
      "outputs": [
        {
          "output_type": "stream",
          "name": "stdout",
          "text": [
            "15/15 [==============================] - 0s 2ms/step\n"
          ]
        }
      ]
    },
    {
      "cell_type": "code",
      "source": [
        "print(confusion_matrix(y_test,predictions))\n",
        "print('\\n')\n",
        "print(classification_report(y_test,predictions))"
      ],
      "metadata": {
        "colab": {
          "base_uri": "https://localhost:8080/"
        },
        "id": "qv6iDG5DaVDQ",
        "outputId": "51b9e5b3-7b13-430f-b631-b895c0b010b0"
      },
      "execution_count": null,
      "outputs": [
        {
          "output_type": "stream",
          "name": "stdout",
          "text": [
            "[[  0 145]\n",
            " [  0 305]]\n",
            "\n",
            "\n",
            "              precision    recall  f1-score   support\n",
            "\n",
            "           0       0.00      0.00      0.00       145\n",
            "           1       0.68      1.00      0.81       305\n",
            "\n",
            "    accuracy                           0.68       450\n",
            "   macro avg       0.34      0.50      0.40       450\n",
            "weighted avg       0.46      0.68      0.55       450\n",
            "\n"
          ]
        },
        {
          "output_type": "stream",
          "name": "stderr",
          "text": [
            "/usr/local/lib/python3.8/dist-packages/sklearn/metrics/_classification.py:1318: UndefinedMetricWarning: Precision and F-score are ill-defined and being set to 0.0 in labels with no predicted samples. Use `zero_division` parameter to control this behavior.\n",
            "  _warn_prf(average, modifier, msg_start, len(result))\n",
            "/usr/local/lib/python3.8/dist-packages/sklearn/metrics/_classification.py:1318: UndefinedMetricWarning: Precision and F-score are ill-defined and being set to 0.0 in labels with no predicted samples. Use `zero_division` parameter to control this behavior.\n",
            "  _warn_prf(average, modifier, msg_start, len(result))\n",
            "/usr/local/lib/python3.8/dist-packages/sklearn/metrics/_classification.py:1318: UndefinedMetricWarning: Precision and F-score are ill-defined and being set to 0.0 in labels with no predicted samples. Use `zero_division` parameter to control this behavior.\n",
            "  _warn_prf(average, modifier, msg_start, len(result))\n"
          ]
        }
      ]
    },
    {
      "cell_type": "code",
      "source": [],
      "metadata": {
        "id": "a6-W2Iz1aXT4"
      },
      "execution_count": null,
      "outputs": []
    }
  ]
}